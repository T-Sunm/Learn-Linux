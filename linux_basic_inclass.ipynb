{
  "nbformat": 4,
  "nbformat_minor": 0,
  "metadata": {
    "colab": {
      "provenance": []
    },
    "kernelspec": {
      "name": "python3",
      "display_name": "Python 3"
    },
    "language_info": {
      "name": "python"
    }
  },
  "cells": [
    {
      "cell_type": "code",
      "execution_count": null,
      "metadata": {
        "colab": {
          "base_uri": "https://localhost:8080/"
        },
        "id": "fm5LANj3qTPd",
        "outputId": "00d924cb-885e-470a-f15f-187e439dabb1"
      },
      "outputs": [
        {
          "output_type": "stream",
          "name": "stdout",
          "text": [
            "Cloning into 'linux_basic'...\n",
            "remote: Enumerating objects: 11, done.\u001b[K\n",
            "remote: Counting objects: 100% (11/11), done.\u001b[K\n",
            "remote: Compressing objects: 100% (10/10), done.\u001b[K\n",
            "remote: Total 11 (delta 1), reused 0 (delta 0), pack-reused 0 (from 0)\u001b[K\n",
            "Receiving objects: 100% (11/11), 13.64 KiB | 6.82 MiB/s, done.\n",
            "Resolving deltas: 100% (1/1), done.\n"
          ]
        }
      ],
      "source": [
        "!git clone https://github.com/nguyenhads/linux_basic.git"
      ]
    },
    {
      "cell_type": "code",
      "source": [
        "!apt install tree -q"
      ],
      "metadata": {
        "colab": {
          "base_uri": "https://localhost:8080/"
        },
        "id": "HNQYVBBjqjGm",
        "outputId": "dfadfe97-a15b-4e1e-a3e8-68871e2a8123"
      },
      "execution_count": null,
      "outputs": [
        {
          "output_type": "stream",
          "name": "stdout",
          "text": [
            "Reading package lists...\n",
            "Building dependency tree...\n",
            "Reading state information...\n",
            "The following NEW packages will be installed:\n",
            "  tree\n",
            "0 upgraded, 1 newly installed, 0 to remove and 35 not upgraded.\n",
            "Need to get 47.9 kB of archives.\n",
            "After this operation, 116 kB of additional disk space will be used.\n",
            "Get:1 http://archive.ubuntu.com/ubuntu jammy/universe amd64 tree amd64 2.0.2-1 [47.9 kB]\n",
            "Fetched 47.9 kB in 0s (267 kB/s)\n",
            "Selecting previously unselected package tree.\n",
            "(Reading database ... 126308 files and directories currently installed.)\n",
            "Preparing to unpack .../tree_2.0.2-1_amd64.deb ...\n",
            "Unpacking tree (2.0.2-1) ...\n",
            "Setting up tree (2.0.2-1) ...\n",
            "Processing triggers for man-db (2.10.2-1) ...\n"
          ]
        }
      ]
    },
    {
      "cell_type": "code",
      "source": [
        "# !!apt install jq -q"
      ],
      "metadata": {
        "id": "PdLxMCUyqu7n"
      },
      "execution_count": null,
      "outputs": []
    },
    {
      "cell_type": "code",
      "source": [
        "# !apt install gnuplot -q"
      ],
      "metadata": {
        "id": "SvWQchrwqyFn"
      },
      "execution_count": null,
      "outputs": []
    },
    {
      "cell_type": "code",
      "source": [
        "!pwd"
      ],
      "metadata": {
        "colab": {
          "base_uri": "https://localhost:8080/"
        },
        "id": "0429U2bjqaMl",
        "outputId": "6aebcb20-9c3c-4f49-eec4-b344ea9e9552"
      },
      "execution_count": null,
      "outputs": [
        {
          "output_type": "stream",
          "name": "stdout",
          "text": [
            "/content\n"
          ]
        }
      ]
    },
    {
      "cell_type": "code",
      "source": [
        "!tree"
      ],
      "metadata": {
        "colab": {
          "base_uri": "https://localhost:8080/"
        },
        "id": "c8K2JVhhqdjq",
        "outputId": "e30fc817-3c3b-44ba-c9ac-5d669a3e8a53"
      },
      "execution_count": null,
      "outputs": [
        {
          "output_type": "stream",
          "name": "stdout",
          "text": [
            "\u001b[01;34m.\u001b[0m\n",
            "├── \u001b[01;34mlinux_basic\u001b[0m\n",
            "│   ├── \u001b[00mcheat_sheet.md\u001b[0m\n",
            "│   ├── \u001b[00mLICENSE\u001b[0m\n",
            "│   ├── \u001b[00mREADME.md\u001b[0m\n",
            "│   └── \u001b[00msetup_script.sh\u001b[0m\n",
            "└── \u001b[01;34msample_data\u001b[0m\n",
            "    ├── \u001b[01;32manscombe.json\u001b[0m\n",
            "    ├── \u001b[00mcalifornia_housing_test.csv\u001b[0m\n",
            "    ├── \u001b[00mcalifornia_housing_train.csv\u001b[0m\n",
            "    ├── \u001b[00mmnist_test.csv\u001b[0m\n",
            "    ├── \u001b[00mmnist_train_small.csv\u001b[0m\n",
            "    └── \u001b[01;32mREADME.md\u001b[0m\n",
            "\n",
            "2 directories, 10 files\n"
          ]
        }
      ]
    },
    {
      "cell_type": "code",
      "source": [
        "!ls -la"
      ],
      "metadata": {
        "colab": {
          "base_uri": "https://localhost:8080/"
        },
        "id": "FMpe50bTrBqf",
        "outputId": "1e3f2648-fb3c-4ac1-95b7-00a6bb713784"
      },
      "execution_count": null,
      "outputs": [
        {
          "output_type": "stream",
          "name": "stdout",
          "text": [
            "total 20\n",
            "drwxr-xr-x 1 root root 4096 Jun 26 13:58 .\n",
            "drwxr-xr-x 1 root root 4096 Jun 26 13:54 ..\n",
            "drwxr-xr-x 4 root root 4096 Jun 24 13:38 .config\n",
            "drwxr-xr-x 3 root root 4096 Jun 26 13:58 linux_basic\n",
            "drwxr-xr-x 1 root root 4096 Jun 24 13:38 sample_data\n"
          ]
        }
      ]
    },
    {
      "cell_type": "code",
      "source": [
        "cd linux_basic/"
      ],
      "metadata": {
        "colab": {
          "base_uri": "https://localhost:8080/"
        },
        "id": "VeXGme8xrIpB",
        "outputId": "4250ffc9-f892-4d16-f05a-2c0961d29b85"
      },
      "execution_count": null,
      "outputs": [
        {
          "output_type": "stream",
          "name": "stdout",
          "text": [
            "/content/linux_basic\n"
          ]
        }
      ]
    },
    {
      "cell_type": "code",
      "source": [
        "!pwd"
      ],
      "metadata": {
        "colab": {
          "base_uri": "https://localhost:8080/"
        },
        "id": "aSz8O0czjDio",
        "outputId": "fbbf6242-4b9b-4436-9d21-409e14334459"
      },
      "execution_count": null,
      "outputs": [
        {
          "output_type": "stream",
          "name": "stdout",
          "text": [
            "/content/linux_basic\n"
          ]
        }
      ]
    },
    {
      "cell_type": "code",
      "source": [
        "ls -l"
      ],
      "metadata": {
        "colab": {
          "base_uri": "https://localhost:8080/"
        },
        "id": "LvW4096NjGzd",
        "outputId": "953570d2-7571-4969-f681-5f72361a3518"
      },
      "execution_count": null,
      "outputs": [
        {
          "output_type": "stream",
          "name": "stdout",
          "text": [
            "total 36\n",
            "-rw-r--r-- 1 root root 11339 Jun 26 13:58 cheat_sheet.md\n",
            "-rw-r--r-- 1 root root  1071 Jun 26 13:58 LICENSE\n",
            "-rw-r--r-- 1 root root  2490 Jun 26 13:58 README.md\n",
            "-rw-r--r-- 1 root root 15433 Jun 26 13:58 setup_script.sh\n"
          ]
        }
      ]
    },
    {
      "cell_type": "code",
      "source": [
        "!bash setup_script.sh"
      ],
      "metadata": {
        "colab": {
          "base_uri": "https://localhost:8080/"
        },
        "id": "cIWsAzo5q90z",
        "outputId": "8c55df3e-318b-4902-cac9-682495fe48eb"
      },
      "execution_count": null,
      "outputs": [
        {
          "output_type": "stream",
          "name": "stdout",
          "text": [
            "Setting up practice data for Unix/Linux Data Science Course...\n",
            "Creating directory structure...\n",
            "Creating customer dataset...\n",
            "Creating sales transactions...\n",
            "Creating website access logs...\n",
            "Creating application logs...\n",
            "Creating API response data...\n",
            "Creating weather dataset...\n",
            "Creating ML model logs...\n",
            "Creating configuration files...\n",
            "Creating utility scripts...\n",
            "Creating practice files...\n",
            "Creating numbers.txt...\n",
            "\n",
            "Practice data setup completed!\n",
            "\n",
            "Created structure:\n",
            "\u001b[01;34m.\u001b[0m\n",
            "├── \u001b[01;34mconfig\u001b[0m\n",
            "│   ├── \u001b[00mapp_settings.ini\u001b[0m\n",
            "│   └── \u001b[00mdatabase.conf\u001b[0m\n",
            "├── \u001b[01;34mdata\u001b[0m\n",
            "│   ├── \u001b[01;34mexternal\u001b[0m\n",
            "│   │   ├── \u001b[00mapi_responses.json\u001b[0m\n",
            "│   │   └── \u001b[00mweather_data.json\u001b[0m\n",
            "│   ├── \u001b[01;34mprocessed\u001b[0m\n",
            "│   └── \u001b[01;34mraw\u001b[0m\n",
            "│       ├── \u001b[00mcustomers.csv\u001b[0m\n",
            "│       ├── \u001b[00mmixed_data.txt\u001b[0m\n",
            "│       ├── \u001b[00mnames.txt\u001b[0m\n",
            "│       ├── \u001b[00mnumbers.txt\u001b[0m\n",
            "│       └── \u001b[00msales_transactions.csv\u001b[0m\n",
            "├── \u001b[01;34mlogs\u001b[0m\n",
            "│   ├── \u001b[00mapplication.log\u001b[0m\n",
            "│   ├── \u001b[00mmodel_training.log\u001b[0m\n",
            "│   └── \u001b[00mwebsite_access.log\u001b[0m\n",
            "├── \u001b[01;34mreports\u001b[0m\n",
            "└── \u001b[01;34mscripts\u001b[0m\n",
            "    └── \u001b[01;32mdata_summary.sh\u001b[0m\n",
            "\n",
            "8 directories, 13 files\n",
            "\n",
            "Files created:\n",
            "   • Customer data: data/raw/customers.csv (15 customers)\n",
            "   • Sales data: data/raw/sales_transactions.csv (15 transactions)\n",
            "   • Web logs: logs/website_access.log (15 requests)\n",
            "   • App logs: logs/application.log (20 entries)\n",
            "   • API data: data/external/api_responses.json\n",
            "   • Weather data: data/external/weather_data.json\n",
            "   • Config files: config/*.conf, config/*.ini\n",
            "   • Utility script: scripts/data_summary.sh\n",
            "\n",
            "Ready for hands-on practice!\n",
            "Try: ./scripts/data_summary.sh\n"
          ]
        }
      ]
    },
    {
      "cell_type": "code",
      "source": [
        "ls -la"
      ],
      "metadata": {
        "colab": {
          "base_uri": "https://localhost:8080/"
        },
        "id": "ojvQprWYrAP0",
        "outputId": "b0277426-8f0b-4067-864b-d2acc94ffc2a"
      },
      "execution_count": null,
      "outputs": [
        {
          "output_type": "stream",
          "name": "stdout",
          "text": [
            "total 52\n",
            "drwxr-xr-x 4 root root  4096 Jun 26 14:03 \u001b[0m\u001b[01;34m.\u001b[0m/\n",
            "drwxr-xr-x 1 root root  4096 Jun 26 13:58 \u001b[01;34m..\u001b[0m/\n",
            "-rw-r--r-- 1 root root 11339 Jun 26 13:58 cheat_sheet.md\n",
            "drwxr-xr-x 8 root root  4096 Jun 26 13:58 \u001b[01;34m.git\u001b[0m/\n",
            "-rw-r--r-- 1 root root  1071 Jun 26 13:58 LICENSE\n",
            "-rw-r--r-- 1 root root  2490 Jun 26 13:58 README.md\n",
            "-rw-r--r-- 1 root root 15433 Jun 26 13:58 setup_script.sh\n",
            "drwxr-xr-x 7 root root  4096 Jun 26 14:03 \u001b[01;34munix_data_science_practice\u001b[0m/\n"
          ]
        }
      ]
    },
    {
      "cell_type": "code",
      "source": [
        "!pwd"
      ],
      "metadata": {
        "colab": {
          "base_uri": "https://localhost:8080/"
        },
        "id": "j1lI9Ngsjj_c",
        "outputId": "c5e3fa51-6537-4310-e8c1-b678240dd88c"
      },
      "execution_count": null,
      "outputs": [
        {
          "output_type": "stream",
          "name": "stdout",
          "text": [
            "/content/linux_basic/unix_data_science_practice\n"
          ]
        }
      ]
    },
    {
      "cell_type": "code",
      "source": [
        "cd .."
      ],
      "metadata": {
        "colab": {
          "base_uri": "https://localhost:8080/"
        },
        "id": "JnJFSSDIjonS",
        "outputId": "6720b413-2050-4be0-d3a8-26572a782e38"
      },
      "execution_count": null,
      "outputs": [
        {
          "output_type": "stream",
          "name": "stdout",
          "text": [
            "/content/linux_basic\n"
          ]
        }
      ]
    },
    {
      "cell_type": "code",
      "source": [
        "cd unix_data_science_practice/"
      ],
      "metadata": {
        "colab": {
          "base_uri": "https://localhost:8080/"
        },
        "id": "srmwVEMYrOty",
        "outputId": "9e14a177-48d6-4c71-d14b-89b91773ac11"
      },
      "execution_count": null,
      "outputs": [
        {
          "output_type": "stream",
          "name": "stdout",
          "text": [
            "/content/linux_basic/unix_data_science_practice\n"
          ]
        }
      ]
    },
    {
      "cell_type": "code",
      "source": [
        "ls -la"
      ],
      "metadata": {
        "colab": {
          "base_uri": "https://localhost:8080/"
        },
        "id": "THIkgZ_-rQgv",
        "outputId": "b6b2af4a-b6cb-4916-bc57-ac3573573c92"
      },
      "execution_count": null,
      "outputs": [
        {
          "output_type": "stream",
          "name": "stdout",
          "text": [
            "total 28\n",
            "drwxr-xr-x 7 root root 4096 Jun 26 14:03 \u001b[0m\u001b[01;34m.\u001b[0m/\n",
            "drwxr-xr-x 4 root root 4096 Jun 26 14:03 \u001b[01;34m..\u001b[0m/\n",
            "drwxr-xr-x 2 root root 4096 Jun 26 14:03 \u001b[01;34mconfig\u001b[0m/\n",
            "drwxr-xr-x 5 root root 4096 Jun 26 14:03 \u001b[01;34mdata\u001b[0m/\n",
            "drwxr-xr-x 2 root root 4096 Jun 26 14:03 \u001b[01;34mlogs\u001b[0m/\n",
            "drwxr-xr-x 2 root root 4096 Jun 26 14:03 \u001b[01;34mreports\u001b[0m/\n",
            "drwxr-xr-x 2 root root 4096 Jun 26 14:03 \u001b[01;34mscripts\u001b[0m/\n"
          ]
        }
      ]
    },
    {
      "cell_type": "code",
      "source": [
        "!tree"
      ],
      "metadata": {
        "colab": {
          "base_uri": "https://localhost:8080/"
        },
        "id": "NXLVOC8UjrsF",
        "outputId": "cbe666bf-1d52-4f79-a8e4-c6192b6333b2"
      },
      "execution_count": null,
      "outputs": [
        {
          "output_type": "stream",
          "name": "stdout",
          "text": [
            "\u001b[01;34m.\u001b[0m\n",
            "├── \u001b[01;34mconfig\u001b[0m\n",
            "│   ├── \u001b[00mapp_settings.ini\u001b[0m\n",
            "│   └── \u001b[00mdatabase.conf\u001b[0m\n",
            "├── \u001b[01;34mdata\u001b[0m\n",
            "│   ├── \u001b[01;34mexternal\u001b[0m\n",
            "│   │   ├── \u001b[00mapi_responses.json\u001b[0m\n",
            "│   │   └── \u001b[00mweather_data.json\u001b[0m\n",
            "│   ├── \u001b[01;34mprocessed\u001b[0m\n",
            "│   └── \u001b[01;34mraw\u001b[0m\n",
            "│       ├── \u001b[00mcustomers.csv\u001b[0m\n",
            "│       ├── \u001b[00mmixed_data.txt\u001b[0m\n",
            "│       ├── \u001b[00mnames.txt\u001b[0m\n",
            "│       ├── \u001b[00mnumbers.txt\u001b[0m\n",
            "│       └── \u001b[00msales_transactions.csv\u001b[0m\n",
            "├── \u001b[01;34mlogs\u001b[0m\n",
            "│   ├── \u001b[00mapplication.log\u001b[0m\n",
            "│   ├── \u001b[00mmodel_training.log\u001b[0m\n",
            "│   └── \u001b[00mwebsite_access.log\u001b[0m\n",
            "├── \u001b[01;34mreports\u001b[0m\n",
            "└── \u001b[01;34mscripts\u001b[0m\n",
            "    └── \u001b[01;32mdata_summary.sh\u001b[0m\n",
            "\n",
            "8 directories, 13 files\n"
          ]
        }
      ]
    },
    {
      "cell_type": "code",
      "source": [
        "!pwd"
      ],
      "metadata": {
        "colab": {
          "base_uri": "https://localhost:8080/"
        },
        "id": "CfmRrVx7rRTY",
        "outputId": "3445dc1b-9eca-4018-bb9e-0a015f49fa94"
      },
      "execution_count": null,
      "outputs": [
        {
          "output_type": "stream",
          "name": "stdout",
          "text": [
            "/content/linux_basic/unix_data_science_practice\n"
          ]
        }
      ]
    },
    {
      "cell_type": "code",
      "source": [
        "!tree"
      ],
      "metadata": {
        "colab": {
          "base_uri": "https://localhost:8080/"
        },
        "id": "s_-j9lyYkKF6",
        "outputId": "d94cad31-d6c3-4f75-eb30-be1b77989613"
      },
      "execution_count": null,
      "outputs": [
        {
          "output_type": "stream",
          "name": "stdout",
          "text": [
            "\u001b[01;34m.\u001b[0m\n",
            "├── \u001b[01;34mconfig\u001b[0m\n",
            "│   ├── \u001b[00mapp_settings.ini\u001b[0m\n",
            "│   └── \u001b[00mdatabase.conf\u001b[0m\n",
            "├── \u001b[01;34mdata\u001b[0m\n",
            "│   ├── \u001b[01;34mexternal\u001b[0m\n",
            "│   │   ├── \u001b[00mapi_responses.json\u001b[0m\n",
            "│   │   └── \u001b[00mweather_data.json\u001b[0m\n",
            "│   ├── \u001b[01;34mprocessed\u001b[0m\n",
            "│   └── \u001b[01;34mraw\u001b[0m\n",
            "│       ├── \u001b[00mcustomers.csv\u001b[0m\n",
            "│       ├── \u001b[00mmixed_data.txt\u001b[0m\n",
            "│       ├── \u001b[00mnames.txt\u001b[0m\n",
            "│       ├── \u001b[00mnumbers.txt\u001b[0m\n",
            "│       └── \u001b[00msales_transactions.csv\u001b[0m\n",
            "├── \u001b[01;34mlogs\u001b[0m\n",
            "│   ├── \u001b[00mapplication.log\u001b[0m\n",
            "│   ├── \u001b[00mmodel_training.log\u001b[0m\n",
            "│   └── \u001b[00mwebsite_access.log\u001b[0m\n",
            "├── \u001b[01;34mreports\u001b[0m\n",
            "└── \u001b[01;34mscripts\u001b[0m\n",
            "    └── \u001b[01;32mdata_summary.sh\u001b[0m\n",
            "\n",
            "8 directories, 13 files\n"
          ]
        }
      ]
    },
    {
      "cell_type": "code",
      "source": [
        "ls ../"
      ],
      "metadata": {
        "colab": {
          "base_uri": "https://localhost:8080/"
        },
        "id": "BmQvo_0VkCxG",
        "outputId": "7d0039b1-7b79-4671-c3a8-dd07210b5fb6"
      },
      "execution_count": null,
      "outputs": [
        {
          "output_type": "stream",
          "name": "stdout",
          "text": [
            "cheat_sheet.md  README.md        \u001b[0m\u001b[01;34munix_data_science_practice\u001b[0m/\n",
            "LICENSE         setup_script.sh\n"
          ]
        }
      ]
    },
    {
      "cell_type": "code",
      "source": [
        "cd data/"
      ],
      "metadata": {
        "colab": {
          "base_uri": "https://localhost:8080/"
        },
        "id": "pT1H0jdVkGPJ",
        "outputId": "15b6245e-237c-4ad8-8681-71d597d3359b"
      },
      "execution_count": null,
      "outputs": [
        {
          "output_type": "stream",
          "name": "stdout",
          "text": [
            "/content/linux_basic/unix_data_science_practice/data\n"
          ]
        }
      ]
    },
    {
      "cell_type": "code",
      "source": [
        "ls"
      ],
      "metadata": {
        "colab": {
          "base_uri": "https://localhost:8080/"
        },
        "id": "O79pbDgVkPm-",
        "outputId": "553afbcc-2823-4869-b8f6-d994df817589"
      },
      "execution_count": null,
      "outputs": [
        {
          "output_type": "stream",
          "name": "stdout",
          "text": [
            "\u001b[0m\u001b[01;34mexternal\u001b[0m/  \u001b[01;34mprocessed\u001b[0m/  \u001b[01;34mraw\u001b[0m/\n"
          ]
        }
      ]
    },
    {
      "cell_type": "code",
      "source": [
        "ls ./"
      ],
      "metadata": {
        "colab": {
          "base_uri": "https://localhost:8080/"
        },
        "id": "yrXrlLaikQN8",
        "outputId": "e186b615-26b0-4aeb-f68a-dc91fbe778be"
      },
      "execution_count": null,
      "outputs": [
        {
          "output_type": "stream",
          "name": "stdout",
          "text": [
            "\u001b[0m\u001b[01;34mexternal\u001b[0m/  \u001b[01;34mprocessed\u001b[0m/  \u001b[01;34mraw\u001b[0m/\n"
          ]
        }
      ]
    },
    {
      "cell_type": "code",
      "source": [
        "ls ../"
      ],
      "metadata": {
        "colab": {
          "base_uri": "https://localhost:8080/"
        },
        "id": "s8B_QN9VkRRI",
        "outputId": "6d0a93ab-5715-4aff-9766-7f73090e28e2"
      },
      "execution_count": null,
      "outputs": [
        {
          "output_type": "stream",
          "name": "stdout",
          "text": [
            "\u001b[0m\u001b[01;34mconfig\u001b[0m/  \u001b[01;34mdata\u001b[0m/  \u001b[01;34mlogs\u001b[0m/  \u001b[01;34mreports\u001b[0m/  \u001b[01;34mscripts\u001b[0m/\n"
          ]
        }
      ]
    },
    {
      "cell_type": "code",
      "source": [
        "!tree"
      ],
      "metadata": {
        "colab": {
          "base_uri": "https://localhost:8080/"
        },
        "id": "FvNuPO3kkT1N",
        "outputId": "d9fd7d55-6fea-4fde-84ec-6e1826f7d44e"
      },
      "execution_count": null,
      "outputs": [
        {
          "output_type": "stream",
          "name": "stdout",
          "text": [
            "\u001b[01;34m.\u001b[0m\n",
            "├── \u001b[01;34mexternal\u001b[0m\n",
            "│   ├── \u001b[00mapi_responses.json\u001b[0m\n",
            "│   └── \u001b[00mweather_data.json\u001b[0m\n",
            "├── \u001b[01;34mprocessed\u001b[0m\n",
            "└── \u001b[01;34mraw\u001b[0m\n",
            "    ├── \u001b[00mcustomers.csv\u001b[0m\n",
            "    ├── \u001b[00mmixed_data.txt\u001b[0m\n",
            "    ├── \u001b[00mnames.txt\u001b[0m\n",
            "    ├── \u001b[00mnumbers.txt\u001b[0m\n",
            "    └── \u001b[00msales_transactions.csv\u001b[0m\n",
            "\n",
            "3 directories, 7 files\n"
          ]
        }
      ]
    },
    {
      "cell_type": "code",
      "source": [
        "cd .."
      ],
      "metadata": {
        "colab": {
          "base_uri": "https://localhost:8080/"
        },
        "id": "nmWG5usgk8Ka",
        "outputId": "b8d5b310-d738-45bc-9c76-3d625da37ea5"
      },
      "execution_count": null,
      "outputs": [
        {
          "output_type": "stream",
          "name": "stdout",
          "text": [
            "/content/linux_basic/unix_data_science_practice\n"
          ]
        }
      ]
    },
    {
      "cell_type": "code",
      "source": [
        "!pwd"
      ],
      "metadata": {
        "colab": {
          "base_uri": "https://localhost:8080/"
        },
        "id": "yCxYw-kik89s",
        "outputId": "291527d0-ab0e-4a96-98f4-1a800988c017"
      },
      "execution_count": null,
      "outputs": [
        {
          "output_type": "stream",
          "name": "stdout",
          "text": [
            "/content/linux_basic/unix_data_science_practice\n"
          ]
        }
      ]
    },
    {
      "cell_type": "code",
      "source": [
        "!whoami"
      ],
      "metadata": {
        "colab": {
          "base_uri": "https://localhost:8080/"
        },
        "id": "RD9X-b_0k-KC",
        "outputId": "d9c9a97a-8d6c-42c7-88a3-62b591d36895"
      },
      "execution_count": null,
      "outputs": [
        {
          "output_type": "stream",
          "name": "stdout",
          "text": [
            "root\n"
          ]
        }
      ]
    },
    {
      "cell_type": "code",
      "source": [
        "!tree"
      ],
      "metadata": {
        "colab": {
          "base_uri": "https://localhost:8080/"
        },
        "id": "rCAIFZ3bk_27",
        "outputId": "f94683e7-950c-4660-8509-a240114a795e"
      },
      "execution_count": null,
      "outputs": [
        {
          "output_type": "stream",
          "name": "stdout",
          "text": [
            "\u001b[01;34m.\u001b[0m\n",
            "├── \u001b[01;34mconfig\u001b[0m\n",
            "│   ├── \u001b[00mapp_settings.ini\u001b[0m\n",
            "│   └── \u001b[00mdatabase.conf\u001b[0m\n",
            "├── \u001b[01;34mdata\u001b[0m\n",
            "│   ├── \u001b[01;34mexternal\u001b[0m\n",
            "│   │   ├── \u001b[00mapi_responses.json\u001b[0m\n",
            "│   │   └── \u001b[00mweather_data.json\u001b[0m\n",
            "│   ├── \u001b[01;34mprocessed\u001b[0m\n",
            "│   └── \u001b[01;34mraw\u001b[0m\n",
            "│       ├── \u001b[00mcustomers.csv\u001b[0m\n",
            "│       ├── \u001b[00mmixed_data.txt\u001b[0m\n",
            "│       ├── \u001b[00mnames.txt\u001b[0m\n",
            "│       ├── \u001b[00mnumbers.txt\u001b[0m\n",
            "│       └── \u001b[00msales_transactions.csv\u001b[0m\n",
            "├── \u001b[01;34mlogs\u001b[0m\n",
            "│   ├── \u001b[00mapplication.log\u001b[0m\n",
            "│   ├── \u001b[00mmodel_training.log\u001b[0m\n",
            "│   └── \u001b[00mwebsite_access.log\u001b[0m\n",
            "├── \u001b[01;34mreports\u001b[0m\n",
            "└── \u001b[01;34mscripts\u001b[0m\n",
            "    └── \u001b[01;32mdata_summary.sh\u001b[0m\n",
            "\n",
            "8 directories, 13 files\n"
          ]
        }
      ]
    },
    {
      "cell_type": "code",
      "source": [],
      "metadata": {
        "id": "v0S6gbSBlf6X"
      },
      "execution_count": null,
      "outputs": []
    },
    {
      "cell_type": "code",
      "source": [],
      "metadata": {
        "id": "E20fViq1lfzP"
      },
      "execution_count": null,
      "outputs": []
    },
    {
      "cell_type": "code",
      "source": [],
      "metadata": {
        "id": "HX9BvZxqlbK8"
      },
      "execution_count": null,
      "outputs": []
    }
  ]
}